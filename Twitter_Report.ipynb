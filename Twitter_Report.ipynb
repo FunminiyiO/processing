{
  "nbformat": 4,
  "nbformat_minor": 0,
  "metadata": {
    "kernelspec": {
      "display_name": "Python 3",
      "language": "python",
      "name": "python3"
    },
    "language_info": {
      "codemirror_mode": {
        "name": "ipython",
        "version": 3
      },
      "file_extension": ".py",
      "mimetype": "text/x-python",
      "name": "python",
      "nbconvert_exporter": "python",
      "pygments_lexer": "ipython3",
      "version": "3.8.3"
    },
    "colab": {
      "name": "Twitter Report.ipynb",
      "provenance": [],
      "include_colab_link": true
    }
  },
  "cells": [
    {
      "cell_type": "markdown",
      "metadata": {
        "id": "view-in-github",
        "colab_type": "text"
      },
      "source": [
        "<a href=\"https://colab.research.google.com/github/FunminiyiO/processing/blob/master/Twitter_Report.ipynb\" target=\"_parent\"><img src=\"https://colab.research.google.com/assets/colab-badge.svg\" alt=\"Open In Colab\"/></a>"
      ]
    },
    {
      "cell_type": "code",
      "metadata": {
        "id": "G5ZIZWh_Wjo8",
        "outputId": "732cf845-44db-4464-d993-01dc13dd3510"
      },
      "source": [
        "#Installs:\n",
        "# ! pip3 install twint\n",
        "# ! pip install nest-asyncio\n",
        "# ! pip install gspread\n",
        "# ! pip install oauth2client"
      ],
      "execution_count": null,
      "outputs": [
        {
          "output_type": "stream",
          "text": [
            "Collecting oauth2client\n",
            "  Downloading oauth2client-4.1.3-py2.py3-none-any.whl (98 kB)\n",
            "Requirement already satisfied: rsa>=3.1.4 in c:\\users\\funminiyioladapo\\anaconda3\\lib\\site-packages (from oauth2client) (4.6)\n",
            "Collecting httplib2>=0.9.1\n",
            "  Downloading httplib2-0.18.1-py3-none-any.whl (95 kB)\n",
            "Requirement already satisfied: pyasn1-modules>=0.0.5 in c:\\users\\funminiyioladapo\\anaconda3\\lib\\site-packages (from oauth2client) (0.2.8)\n",
            "Requirement already satisfied: pyasn1>=0.1.7 in c:\\users\\funminiyioladapo\\anaconda3\\lib\\site-packages (from oauth2client) (0.4.8)\n",
            "Requirement already satisfied: six>=1.6.1 in c:\\users\\funminiyioladapo\\anaconda3\\lib\\site-packages (from oauth2client) (1.15.0)\n",
            "Installing collected packages: httplib2, oauth2client\n",
            "Successfully installed httplib2-0.18.1 oauth2client-4.1.3\n"
          ],
          "name": "stdout"
        }
      ]
    },
    {
      "cell_type": "code",
      "metadata": {
        "id": "3ZtljoGXWjpD"
      },
      "source": [
        "import gspread\n",
        "from oauth2client.service_account import ServiceAccountCredentials\n",
        "import pandas as pd\n",
        "import twint\n",
        "import datetime as dt\n",
        "import nest_asyncio\n",
        "nest_asyncio.apply()\n",
        "import time\n",
        "pd.set_option('display.max_columns', None)\n",
        "pd.set_option('display.max_rows', None)\n",
        "from IPython.display import clear_output\n",
        "import warnings\n",
        "warnings.filterwarnings('ignore')\n",
        "\n",
        "scope = ['https://spreadsheets.google.com/feeds','https://www.googleapis.com/auth/drive']\n",
        "creds = ServiceAccountCredentials.from_json_keyfile_name('mailing_automation.json', scope)\n",
        "client = gspread.authorize(creds)\n",
        "sheet = client.open('Weekly AI+ Report').sheet1\n",
        "\n",
        "# updater = sheet.get_all_records()"
      ],
      "execution_count": null,
      "outputs": []
    },
    {
      "cell_type": "code",
      "metadata": {
        "id": "9RDaWBm3WjpN"
      },
      "source": [
        "handles = [\"DSN_AI_Abeokuta\",\"AbujaDsn\",\"AIplusAdo\",\"AIplus_Akure\",\"dsn_aiasaba\", \"dsn_bauchi\",\"DSN_Benin\",\"dsn_calabar\",\n",
        "          \"Dsn_AiPlusGombe\",\"ai_dsn\",\"DSNAI_IjebuOde\",\"IlorinAi\",\"DSN_Jos\",\"dsn_kaduna\",\"DsnaiKano\",\"LokojaAIplus\",\n",
        "          \"dsnAI_Osogbo\",\"AiOwerri\",\"DSN_AI_PH\",\"dsnuyo\",\"DsnYola\",\"DsnZaria\",\"AIPLUS_AAU\",\"bukaiclub\",\"AiEsut\",\"AiFunaab\",\n",
        "          \"aiclubfuoye\",\"DSNFupreAi\",\"AIplus_Futminna\",\"AiPlus_FUTA\",\"dsn_lasu\",\"AiLautech\",\"ai_mouau\",\"AIplus_OAU\",\n",
        "          \"DsnaiUniben\",\"AiUnilorin\",\"dsn_ui\",\"BowenAIClub\",\"aiplusunilag\",\"DsnBells\"]\n",
        "    \n",
        "names = [\"City- AI+ Abeokuta\",\"City- AI+ Abuja\",\"City- AI+ Ado-Ekiti\",\"City- AI+ Akure\",\"City- AI+ Asaba\",\"City- AI+ Bauchi\",\n",
        "         \"City- AI+ Benin\",\"City- AI+ Calabar\",\"City- AI+ Gombe\",\"City- AI+ Ibadan\",\"City- AI+ Ijebu-Ode\",\"City- AI+ Ilorin\",\n",
        "         \"City- AI+ Jos\",\"City- AI+ Kaduna\",\"City- AI+ Kano\",\"City- AI+ Lokoja\",\"City- AI+ Osogbo\", \"City- AI+ Owerri\",\n",
        "         \"City- AI+ Port Harcourt\",\"City- AI+ Uyo\",\"City- AI+ Yola\",\"City- AI+ Zaria\",\"Campus- AI+ AAU\",\"Campus- AI+ BUK\",\n",
        "         \"Campus- AI+ ESUT\",\"Campus- AI+ FUNAAB\", \"Campus- AI+ FUOYE\",\"Campus- AI+ FUPRE\",\"Campus- AI+ FUT\",\"Campus- AI+ FUTA\",\n",
        "         \"Campus- AI+ LASU\", \"Campus- AI+ LAUTECH\",\"Campus- AI+ MOUAU\",\"Campus- AI+ OAU\",\"Campus- AI+ UNIBEN\",\"Campus- AI+ UNILORIN\",\n",
        "         \"Campus- AI+ UI\",\"Campus- AI+ BOWEN\",\"Campus- AI+ UNILAG\",\"Campus- AI+ Bells\"]\n",
        "\n",
        "dict_name_handle = {names[i]: handles[i] for i in range(len(names))}"
      ],
      "execution_count": null,
      "outputs": []
    },
    {
      "cell_type": "code",
      "metadata": {
        "id": "5IyQCShLWjpS",
        "outputId": "36dec1a5-3ce9-4a1e-d155-e7931d09ce84"
      },
      "source": [
        "start_date = \"2020-10-1\"    #YY-MM-DD\n",
        "end_date   = \"2020-10-28\"\n",
        "\n",
        "list_followers = []\n",
        "list_total_personal_tweets = []\n",
        "list_DSN_retweets = []\n",
        "list_other_comm_tweets = []\n",
        "\n",
        "count = 0\n",
        "for comm_handle in handles:\n",
        "    #Get the number of followers\n",
        "    t = twint.Config()\n",
        "    t.Username = comm_handle\n",
        "    t.Pandas = True\n",
        "    t.Hide_output = True\n",
        "    twint.run.Followers(t)\n",
        "    followers_df = twint.storage.panda.Follow_df\n",
        "    list_of_followers = followers_df['followers'][comm_handle]\n",
        "    number_followers = len(list_of_followers) #deliverable\n",
        "    list_followers.append(number_followers)\n",
        "    \n",
        "    print(\"The number of followers for {} is {}\".format(comm_handle, number_followers))\n",
        "    \n",
        "    #Level one done\n",
        "    #+2\n",
        "    \n",
        "    #Get all personal Tweets\n",
        "    t = twint.Config()\n",
        "    t.Username = comm_handle\n",
        "    t.Pandas = True\n",
        "    t.Hide_output = True\n",
        "    t.Since = start_date\n",
        "    t.Until = end_date\n",
        "    twint.run.Search(t)\n",
        "    Tweets_df = twint.storage.panda.Tweets_df\n",
        "    try:\n",
        "        num_personal_tweets = len(Tweets_df.id) #deliverable\n",
        "    except:\n",
        "        num_personal_tweets = 0\n",
        "    \n",
        "    print(\"The number of personal tweets for {} is {}\".format(comm_handle, num_personal_tweets))\n",
        "    \n",
        "    #Level two done\n",
        "    #+2\n",
        "    \n",
        "    #Get total retweets only\n",
        "    t = twint.Config()\n",
        "    t.Username = comm_handle\n",
        "    t.Pandas = True\n",
        "    t.Hide_output = True\n",
        "    t.Since = start_date\n",
        "    t.Until = end_date\n",
        "    t.Native_retweets = True\n",
        "    twint.run.Search(t)\n",
        "    Tweets_df = twint.storage.panda.Tweets_df\n",
        "    try:\n",
        "        num_total_retweets = len(Tweets_df.id) #deliverable\n",
        "    except:\n",
        "        num_total_retweets = 0\n",
        "    \n",
        "    print(\"The number of total retweets for {} is {}\".format(comm_handle, num_total_retweets))\n",
        "    \n",
        "    #Level three done\n",
        "    \n",
        "    #Get total DSN retweets\n",
        "    t = twint.Config()\n",
        "    t.Username = comm_handle\n",
        "    t.Pandas = True\n",
        "    t.All = \"DataScienceNIG\"\n",
        "    t.Hide_output = True\n",
        "    t.Since = start_date\n",
        "    t.Until = end_date\n",
        "    t.Native_retweets = True\n",
        "    twint.run.Search(t)\n",
        "    Tweets_df = twint.storage.panda.Tweets_df\n",
        "    try:\n",
        "        num_DSN_tweets = len(Tweets_df.id) #deliverable\n",
        "    except:\n",
        "        num_DSN_tweets = 0\n",
        "        \n",
        "    list_DSN_retweets.append(num_DSN_tweets)\n",
        "    print(\"The number of DSN retweets for {} is {}\".format(comm_handle, num_DSN_tweets))\n",
        "    \n",
        "    #Level four done\n",
        "    #+2\n",
        "    \n",
        "    #Get number of other AI+ community retweets\n",
        "    total = 0\n",
        "    for current_community in handles:\n",
        "        if current_community == comm_handle:\n",
        "            pass\n",
        "        else:\n",
        "            t = twint.Config()\n",
        "            t.Username = comm_handle\n",
        "            t.Pandas = True\n",
        "            t.All = current_community\n",
        "            t.Hide_output = True\n",
        "            t.Since = start_date\n",
        "            t.Until = end_date\n",
        "            twint.run.Search(t)\n",
        "            clear_output()\n",
        "            print(str(count) + \" Communities done. \")\n",
        "            Tweets_df = twint.storage.panda.Tweets_df\n",
        "            try:\n",
        "                num_comm_tweets = len(Tweets_df.index) #deliverable\n",
        "            except:\n",
        "                num_comm_tweets = 0\n",
        "\n",
        "            total = total + num_comm_tweets\n",
        "    total_other_community_tweets = total\n",
        "    list_other_comm_tweets.append(total_other_community_tweets)\n",
        "    print(\"The total number of AI+ Community retweets for {} is {}\".format(comm_handle, total))\n",
        "\n",
        "    #Level five done\n",
        "    #+2\n",
        "    \n",
        "    #Get number of other retweets\n",
        "    num_other_retweets = num_total_retweets - num_DSN_tweets\n",
        "    total_personal_tweets = num_other_retweets + num_personal_tweets #deliverable\n",
        "    list_total_personal_tweets.append(total_personal_tweets)\n",
        "    \n",
        "    count += 1\n",
        "    print('\\n')\n",
        "    print(str(count) + \" Communities done. \")"
      ],
      "execution_count": null,
      "outputs": [
        {
          "output_type": "stream",
          "text": [
            "39 Communities done. \n",
            "The total number of AI+ Community retweets for DsnBells is 0\n",
            "\n",
            "\n",
            "40 Communities done. \n"
          ],
          "name": "stdout"
        }
      ]
    },
    {
      "cell_type": "code",
      "metadata": {
        "id": "i3E12_ADWjpX",
        "outputId": "e37430a7-95c9-4d60-f2d4-9aec1bfd962f"
      },
      "source": [
        "#Get date of last Tweet\n",
        "date_last_tweet = []\n",
        "\n",
        "for comm_handle in handles:\n",
        "    t = twint.Config()\n",
        "    t.Username = comm_handle\n",
        "    t.Pandas = True\n",
        "    t.Hide_output = True\n",
        "    t.Limit = 20\n",
        "    twint.run.Search(t)\n",
        "    Tweets_df = twint.storage.panda.Tweets_df\n",
        "    try:\n",
        "        last_tweet_date = Tweets_df.date[0]\n",
        "    except:\n",
        "        last_tweet_date = '> 3 months'\n",
        "    date_last_tweet.append(last_tweet_date)\n",
        "\n",
        "    print(\"The date of last tweet for {} is {}\".format(comm_handle, last_tweet_date))"
      ],
      "execution_count": null,
      "outputs": [
        {
          "output_type": "stream",
          "text": [
            "The date of last tweet for DSN_AI_Abeokuta is 2020-10-08 12:23:19\n",
            "The date of last tweet for AbujaDsn is 2020-09-25 21:24:15\n",
            "No more data. finished scraping!! is it though? because sometimes twitter lie.\n",
            "The date of last tweet for AIplusAdo is 2020-10-26 14:34:33\n",
            "No more data. finished scraping!! is it though? because sometimes twitter lie.\n",
            "The date of last tweet for AIplus_Akure is 2020-07-01 16:12:22\n",
            "The date of last tweet for dsn_aiasaba is 2020-10-03 19:10:05\n",
            "No more data. finished scraping!! is it though? because sometimes twitter lie.\n",
            "The date of last tweet for dsn_bauchi is 2020-10-20 17:43:26\n",
            "The date of last tweet for DSN_Benin is 2020-10-16 21:27:07\n",
            "The date of last tweet for dsn_calabar is 2020-06-29 04:35:53\n",
            "The date of last tweet for Dsn_AiPlusGombe is 2020-10-21 17:50:56\n",
            "No more data. finished scraping!! is it though? because sometimes twitter lie.\n",
            "The date of last tweet for ai_dsn is 2020-02-26 17:05:06\n",
            "The date of last tweet for DSNAI_IjebuOde is 2020-10-11 19:03:53\n",
            "The date of last tweet for IlorinAi is 2020-10-26 10:12:34\n",
            "No more data. finished scraping!! is it though? because sometimes twitter lie.\n",
            "The date of last tweet for DSN_Jos is 2020-06-26 23:27:34\n",
            "The date of last tweet for dsn_kaduna is 2020-09-30 13:32:57\n",
            "No more data. finished scraping!! is it though? because sometimes twitter lie.\n",
            "The date of last tweet for DsnaiKano is 2020-09-10 02:59:30\n",
            "No more data. finished scraping!! is it though? because sometimes twitter lie.\n",
            "The date of last tweet for LokojaAIplus is 2020-06-30 14:20:25\n",
            "The date of last tweet for dsnAI_Osogbo is 2020-07-14 12:21:55\n",
            "The date of last tweet for AiOwerri is 2020-10-01 13:39:19\n",
            "The date of last tweet for DSN_AI_PH is 2020-10-05 03:16:27\n",
            "No more data. finished scraping!! is it though? because sometimes twitter lie.\n",
            "The date of last tweet for dsnuyo is 2020-01-01 03:13:51\n",
            "No more data. finished scraping!! is it though? because sometimes twitter lie.\n",
            "The date of last tweet for DsnYola is > 6 months\n",
            "The date of last tweet for DsnZaria is 2020-10-13 18:49:38\n",
            "No more data. finished scraping!! is it though? because sometimes twitter lie.\n",
            "The date of last tweet for AIPLUS_AAU is > 6 months\n",
            "The date of last tweet for bukaiclub is 2020-07-08 11:58:22\n",
            "No more data. finished scraping!! is it though? because sometimes twitter lie.\n",
            "The date of last tweet for AiEsut is 2020-10-16 07:54:40\n",
            "No more data. finished scraping!! is it though? because sometimes twitter lie.\n",
            "The date of last tweet for AiFunaab is 2020-10-21 16:15:53\n",
            "No more data. finished scraping!! is it though? because sometimes twitter lie.\n",
            "The date of last tweet for aiclubfuoye is 2020-08-18 10:45:57\n",
            "No more data. finished scraping!! is it though? because sometimes twitter lie.\n",
            "The date of last tweet for DSNFupreAi is 2020-06-29 17:29:06\n",
            "The date of last tweet for AIplus_Futminna is 2020-07-10 12:39:13\n",
            "The date of last tweet for AiPlus_FUTA is 2020-09-22 21:23:55\n",
            "No more data. finished scraping!! is it though? because sometimes twitter lie.\n",
            "The date of last tweet for dsn_lasu is 2020-07-25 17:38:31\n",
            "The date of last tweet for AiLautech is 2020-07-17 16:28:05\n",
            "No more data. finished scraping!! is it though? because sometimes twitter lie.\n",
            "The date of last tweet for ai_mouau is 2020-08-05 22:39:56\n",
            "The date of last tweet for AIplus_OAU is 2020-10-28 16:25:23\n",
            "No more data. finished scraping!! is it though? because sometimes twitter lie.\n",
            "The date of last tweet for DsnaiUniben is 2020-09-26 14:34:19\n",
            "The date of last tweet for AiUnilorin is 2020-09-30 19:39:20\n",
            "The date of last tweet for dsn_ui is 2020-10-24 08:10:36\n",
            "No more data. finished scraping!! is it though? because sometimes twitter lie.\n",
            "The date of last tweet for BowenAIClub is 2020-08-19 11:31:41\n",
            "The date of last tweet for aiplusunilag is 2020-10-13 15:21:53\n",
            "No more data. finished scraping!! is it though? because sometimes twitter lie.\n",
            "The date of last tweet for DsnBells is 2020-07-14 14:52:57\n"
          ],
          "name": "stdout"
        }
      ]
    },
    {
      "cell_type": "code",
      "metadata": {
        "id": "vhyuPQDKWjpb"
      },
      "source": [
        "twitter_report = {'AI+ Community' : names, 'Followers' : list_followers, 'Tweets' : list_total_personal_tweets,\n",
        "                  'DSN Tweet Eng.' : list_DSN_retweets, 'Comm. Tweet Eng.' : list_other_comm_tweets,\n",
        "                  'Last Tweet Date' : date_last_tweet}\n",
        "twitter_report = pd.DataFrame(twitter_report, columns = ['AI+ Community','Followers','Tweets','DSN Tweet Eng.','Comm. Tweet Eng.',\n",
        "                                                        'Last Tweet Date'])\n",
        "twitter_report.to_csv('AI+ Twitter Report.csv', header = ['AI+ Community','Followers','Tweets','DSN Tweet Eng.','Comm. Tweet Eng.',\n",
        "                                                        'Last Tweet Date'], index = False)"
      ],
      "execution_count": null,
      "outputs": []
    },
    {
      "cell_type": "code",
      "metadata": {
        "id": "e35rwSL4Wjpi",
        "outputId": "3a203eac-f1e9-4263-8d03-09ca07e81522"
      },
      "source": [
        "#Update to Google Spreadsheet\n",
        "#Link: \n",
        "sheet.update([twitter_report.columns.values.tolist()] + twitter_report.values.tolist())"
      ],
      "execution_count": null,
      "outputs": [
        {
          "output_type": "execute_result",
          "data": {
            "text/plain": [
              "{'spreadsheetId': '14XI6FWVl9ZAS6KtWmEjSzpO26NTcA0-Nzz3BjotmE7k',\n",
              " 'updatedRange': 'Report!A1:F41',\n",
              " 'updatedRows': 41,\n",
              " 'updatedColumns': 6,\n",
              " 'updatedCells': 246}"
            ]
          },
          "metadata": {
            "tags": []
          },
          "execution_count": 44
        }
      ]
    },
    {
      "cell_type": "code",
      "metadata": {
        "id": "MgpxvWFHWjpq"
      },
      "source": [
        ""
      ],
      "execution_count": null,
      "outputs": []
    },
    {
      "cell_type": "code",
      "metadata": {
        "id": "TPlX3EF6Wjpu"
      },
      "source": [
        ""
      ],
      "execution_count": null,
      "outputs": []
    },
    {
      "cell_type": "code",
      "metadata": {
        "id": "bVTGx3LZWjpx"
      },
      "source": [
        ""
      ],
      "execution_count": null,
      "outputs": []
    },
    {
      "cell_type": "code",
      "metadata": {
        "id": "cUDhe63tWjp0"
      },
      "source": [
        ""
      ],
      "execution_count": null,
      "outputs": []
    },
    {
      "cell_type": "code",
      "metadata": {
        "id": "kklY6q3QWjp6",
        "outputId": "0a7f0c8c-cff4-41f9-bb7b-7781052d033f"
      },
      "source": [
        "#Get the number of followers\n",
        "#done\n",
        "\n",
        "current_username = \"o_funminiyi\"\n",
        "\n",
        "t = twint.Config()\n",
        "t.Username = current_username\n",
        "t.Pandas = True\n",
        "t.Hide_output = True\n",
        "\n",
        "twint.run.Followers(t)\n",
        "followers_df = twint.storage.panda.Follow_df\n",
        "list_of_followers = followers_df['followers'][\"o_funminiyi\"]\n",
        "\n",
        "number_followers = len(list_of_followers) #deliverable\n",
        "print(\"The number of followers for {} is {}\".format(current_username, number_followers))"
      ],
      "execution_count": null,
      "outputs": [
        {
          "output_type": "stream",
          "text": [
            "CRITICAL:root:twint.feed:Follow:IndexError\n",
            "CRITICAL:root:twint.feed:Follow:IndexError\n"
          ],
          "name": "stderr"
        },
        {
          "output_type": "stream",
          "text": [
            "The number of followers for o_funminiyi is 710\n"
          ],
          "name": "stdout"
        }
      ]
    },
    {
      "cell_type": "code",
      "metadata": {
        "id": "3AIWKk1NWjqA",
        "outputId": "ab14804e-89e3-471d-d982-85b282edc9b6"
      },
      "source": [
        "#Get all personal Tweets\n",
        "#done\n",
        "\n",
        "start_date = \"2020-10-1\"\n",
        "end_date   = \"2020-10-28\"\n",
        "\n",
        "t = twint.Config()\n",
        "t.Username = \"o_funminiyi\"\n",
        "t.Pandas = True\n",
        "t.Hide_output = True\n",
        "t.Since = start_date\n",
        "t.Until = end_date\n",
        "\n",
        "twint.run.Search(t)\n",
        "\n",
        "Tweets_df = twint.storage.panda.Tweets_df\n",
        "num_personal_tweets = len(Tweets_df.id) #deliverable\n",
        "print(\"The number of personal tweets for {} is {}\".format(current_username, num_personal_tweets))"
      ],
      "execution_count": null,
      "outputs": [
        {
          "output_type": "stream",
          "text": [
            "No more data. finished scraping!! is it though? because sometimes twitter lie.\n",
            "The number of personal tweets for o_funminiyi is 24\n"
          ],
          "name": "stdout"
        }
      ]
    },
    {
      "cell_type": "code",
      "metadata": {
        "id": "8ox9zXv6WjqF",
        "outputId": "be349210-eb70-4bcf-e827-ef5ef688f74b"
      },
      "source": [
        "#Get total retweets only\n",
        "#done\n",
        "\n",
        "start_date = \"2020-10-1\"\n",
        "end_date   = \"2020-10-28\"\n",
        "\n",
        "t = twint.Config()\n",
        "t.Username = \"o_funminiyi\"\n",
        "t.Pandas = True\n",
        "t.Hide_output = True\n",
        "t.Since = start_date\n",
        "t.Until = end_date\n",
        "t.Native_retweets = True\n",
        "\n",
        "twint.run.Search(t)\n",
        "\n",
        "Tweets_df = twint.storage.panda.Tweets_df\n",
        "num_total_retweets = len(Tweets_df.id) #deliverable\n",
        "print(\"The number of total retweets for {} is {}\".format(current_username, num_total_retweets))"
      ],
      "execution_count": null,
      "outputs": [
        {
          "output_type": "stream",
          "text": [
            "No more data. finished scraping!! is it though? because sometimes twitter lie.\n",
            "The number of total retweets for o_funminiyi is 273\n"
          ],
          "name": "stdout"
        }
      ]
    },
    {
      "cell_type": "code",
      "metadata": {
        "id": "LM3Zafd6WjqL",
        "outputId": "1fbdf642-b358-48dc-ffb2-8d8008dcb3dc"
      },
      "source": [
        "#Get total DSN retweets\n",
        "#done\n",
        "\n",
        "start_date = \"2020-10-1\"\n",
        "end_date   = \"2020-10-28\"\n",
        "\n",
        "t = twint.Config()\n",
        "t.Username = \"o_funminiyi\"\n",
        "t.Pandas = True\n",
        "t.All = \"DataScienceNIG\"\n",
        "t.Hide_output = True\n",
        "t.Since = start_date\n",
        "t.Until = end_date\n",
        "t.Native_retweets = True\n",
        "\n",
        "twint.run.Search(t)\n",
        "\n",
        "Tweets_df = twint.storage.panda.Tweets_df\n",
        "num_DSN_tweets = len(Tweets_df.id) #deliverable\n",
        "print(\"The number of DSN retweets for {} is {}\".format(current_username, num_DSN_tweets))"
      ],
      "execution_count": null,
      "outputs": [
        {
          "output_type": "stream",
          "text": [
            "No more data. finished scraping!! is it though? because sometimes twitter lie.\n",
            "The number of DSN retweets for o_funminiyi is 10\n"
          ],
          "name": "stdout"
        }
      ]
    },
    {
      "cell_type": "code",
      "metadata": {
        "id": "u4eVCL6MWjqO"
      },
      "source": [
        "#Get number of other retweets\n",
        "#done\n",
        "\n",
        "num_other_retweets = num_total_retweets - num_DSN_tweets\n",
        "total_personal_tweets = num_other_retweets + num_personal_tweets #deliverable"
      ],
      "execution_count": null,
      "outputs": []
    },
    {
      "cell_type": "code",
      "metadata": {
        "id": "Rg6eGKbtWjqR",
        "outputId": "ccce0e46-64d1-4c61-8d8b-a4c94449d6c2"
      },
      "source": [
        "#Get number of other AI+ community retweets\n",
        "total = 0\n",
        "community = \"o_funminiyi\"\n",
        "\n",
        "for current_community in handles:\n",
        "    start_date = \"2020-5-1\"\n",
        "    end_date   = \"2020-10-28\"\n",
        "\n",
        "    t = twint.Config()\n",
        "    t.Username = community\n",
        "    t.Pandas = True\n",
        "    t.All = current_community\n",
        "    t.Hide_output = True\n",
        "    t.Since = start_date\n",
        "    t.Until = end_date\n",
        "\n",
        "    twint.run.Search(t)\n",
        "    clear_output()\n",
        "    \n",
        "    Tweets_df = twint.storage.panda.Tweets_df\n",
        "    num_comm_tweets = len(Tweets_df.index) #deliverable\n",
        "    \n",
        "    total = total + num_comm_tweets\n",
        "\n",
        "total_other_community_tweets = total\n",
        "print(\"The total number of AI+ Community retweets for {} is {}\".format(community, total))"
      ],
      "execution_count": null,
      "outputs": [
        {
          "output_type": "stream",
          "text": [
            "The total number of AI+ Community retweets for o_funminiyi is 34\n"
          ],
          "name": "stdout"
        }
      ]
    },
    {
      "cell_type": "code",
      "metadata": {
        "id": "1ARFdGypWjqU"
      },
      "source": [
        ""
      ],
      "execution_count": null,
      "outputs": []
    }
  ]
}